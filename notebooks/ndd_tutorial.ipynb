{
 "cells": [
  {
   "cell_type": "markdown",
   "metadata": {},
   "source": [
    "# ndd module Tutorial\n",
    "\n",
    "Welcome to the ndd (eNtropy from Discrete Data) module Tutorial\n",
    "\n",
    "## What is **ndd** about\n",
    "\n",
    "The main goal of **ndd** is to provide a simple and minimal Python interface to the Nemenman-Shafee-Bialek (NSB)  algorithm, a state of the art Bayesian algorithm for entropy estimation. In **ndd**, this interface is the ndd.entropy() function, that returns an estimate from an array of counts over a set of outcomes: entropy_estimate = ndd.entropy(counts). ndd.entropy() relies on an efficient and numerically robust Fortran implementation of the NSB algorithm. "
   ]
  },
  {
   "cell_type": "markdown",
   "metadata": {},
   "source": [
    "## Entropy and dice rolls\n",
    "\n",
    "In this tutorial we will test the **ndd** module on some simple datasets. \n",
    "First, import the module:"
   ]
  },
  {
   "cell_type": "code",
   "execution_count": 40,
   "metadata": {
    "collapsed": false
   },
   "outputs": [],
   "source": [
    "import ndd"
   ]
  },
  {
   "cell_type": "markdown",
   "metadata": {},
   "source": [
    "we will also need numpy and plotting libraries"
   ]
  },
  {
   "cell_type": "code",
   "execution_count": 37,
   "metadata": {
    "collapsed": false
   },
   "outputs": [],
   "source": [
    "import numpy as np\n",
    "from matplotlib import pylab\n",
    "\n",
    "#tell matplotlib to plot inline\n",
    "%matplotlib inline\n",
    "\n",
    "#increase the font size and markers size\n",
    "from matplotlib import rc\n",
    "rc('font', size=20)\n",
    "rc('lines', markersize=12)"
   ]
  },
  {
   "cell_type": "markdown",
   "metadata": {},
   "source": [
    "As input data, we need a list of integers $\\{n_i\\} \\equiv \\{n_1,n_2,...,n_k\\}$ representing counts of the occurrences of values within a set of $k$ possible outcomes. For example, we can roll a six-sided dice ($k$ = 6 possible outcomes) for 1000 times and count the number of times we observe the six different faces:"
   ]
  },
  {
   "cell_type": "code",
   "execution_count": 51,
   "metadata": {
    "collapsed": false
   },
   "outputs": [
    {
     "data": {
      "text/plain": [
       "array([172, 180, 181, 166, 148, 153])"
      ]
     },
     "execution_count": 51,
     "metadata": {},
     "output_type": "execute_result"
    }
   ],
   "source": [
    "def dice_rolls(k,n):\n",
    "    import numpy as np\n",
    "    p = np.full(k,1.0/k)                # the probability of each face is 1/k\n",
    "    counts = np.random.multinomial(n,p) # generate random counts according to p\n",
    "    return counts\n",
    "k = 6\n",
    "n = 1000\n",
    "counts = dice_rolls(k,n)\n",
    "counts"
   ]
  },
  {
   "cell_type": "markdown",
   "metadata": {},
   "source": [
    "For a fair dice with six faces, the probability of each face is exactly $\\pi_i = 1/6$ and the entropy $H({\\boldsymbol \\pi})$ of the associated probability distribution ${\\boldsymbol \\pi}$ is exactly $\\log(6)$. \n",
    "The standard \"plugin\" estimator:\n",
    "$$H_{\\rm plugin}(\\{n_i\\}) = \\sum_{i=1,k} \\left(\\frac{n_i}{n}\\right) \\log \\left(\\frac{n_i}{n}\\right)$$\n",
    "approximate the true distribution ${\\boldsymbol \\pi}$ with the empirical distribution $\\hat{\\boldsymbol \\pi}$ where $\\pi_i = n_i/n$. $H_{plugin}$ can be computed using the **ndd** module and compared with $\\log(6)$:"
   ]
  },
  {
   "cell_type": "code",
   "execution_count": 72,
   "metadata": {
    "collapsed": false
   },
   "outputs": [
    {
     "name": "stdout",
     "output_type": "stream",
     "text": [
      "true entropy: 1.79175946923; (ndd,scipy) plugin est.: 17.8471334646,17.8471334646\n"
     ]
    }
   ],
   "source": [
    "H_true = np.log(6.0)\n",
    "H_plugin = ndd.entropy(counts,algorithm='plugin') \n",
    "import scipy.stats\n",
    "H_plugin_scipy = scipy.stats.entropy(counts) # this is the same estimator from scipy.stats, for comparison\n",
    "print('true entropy: %s; (ndd, scipy) plugin est.: %s, %s' % (H_true,H_plugin,H_plugin_scipy))"
   ]
  },
  {
   "cell_type": "markdown",
   "metadata": {},
   "source": [
    "$n>>k$, ${\\boldsymbol \\pi}$ is well-sampled and the plugin estimator gives a good approximation of the exact value for the entropy. Actually, we are much more interested in the opposite situation, i.e. when the number of possible outcomes is much larger than the number of trials; for example when throwing a 1000-faced dice for 6 times. Unfortunately, the plugin estimator has a strong negative bias in this regime:"
   ]
  },
  {
   "cell_type": "code",
   "execution_count": 99,
   "metadata": {
    "collapsed": false
   },
   "outputs": [
    {
     "name": "stdout",
     "output_type": "stream",
     "text": [
      "true entropy: 6.90775527898; plugin est.: 1.79175946923\n"
     ]
    }
   ],
   "source": [
    "k = 1000\n",
    "n = 6\n",
    "counts = dice_rolls(k,n)\n",
    "H_true = np.log(k)\n",
    "H_plugin = ndd.entropy(counts,algorithm='plugin') \n",
    "print('true entropy: %s; plugin est.: %s' % (H_true,H_plugin))"
   ]
  },
  {
   "cell_type": "markdown",
   "metadata": {},
   "source": [
    "In this regime, the Bayesian NSB algorithm is a much better estimator: "
   ]
  },
  {
   "cell_type": "code",
   "execution_count": 91,
   "metadata": {
    "collapsed": false
   },
   "outputs": [
    {
     "name": "stdout",
     "output_type": "stream",
     "text": [
      "true entropy: 6.90775527898; NSB est.: 6.85923091348\n"
     ]
    }
   ],
   "source": [
    "H_nsb = ndd.entropy(counts,algorithm='nsb') \n",
    "print('true entropy: %s; NSB est.: %s' % (H_true,H_nsb))"
   ]
  },
  {
   "cell_type": "markdown",
   "metadata": {},
   "source": [
    "and is the default algorithm for entropy estimation of **ndd** i.e. it will be used if the \"algorithm\" argument is not specified by the user. Moreover, the Bayesian formalism can be used to obtain an estimate for the error in the estimate (as the standard deviation of the NSB estimate over Dirichlet-multinomial posteriors, see the papers): "
   ]
  },
  {
   "cell_type": "code",
   "execution_count": 92,
   "metadata": {
    "collapsed": false
   },
   "outputs": [
    {
     "name": "stdout",
     "output_type": "stream",
     "text": [
      "true entropy: 6.90775527898; NSB est.: 6.85923091348 +/- 0.0315053822593\n"
     ]
    }
   ],
   "source": [
    "H_nsb,err = ndd.entropy(counts,est_error=1) \n",
    "print('true entropy: %s; NSB est.: %s +/- %s' % (H_true,H_nsb,err))"
   ]
  },
  {
   "cell_type": "code",
   "execution_count": 98,
   "metadata": {
    "collapsed": false
   },
   "outputs": [
    {
     "data": {
      "image/png": "[encoded data removed]",
      "text/plain": [
       "<matplotlib.figure.Figure at 0x7f4dad679050>"
      ]
     },
     "metadata": {},
     "output_type": "display_data"
    }
   ],
   "source": [
    "def plotter(k,n):    \n",
    "    rolls = [dice_rolls(k,n) for i in range(10000)]\n",
    "    x = [[ndd.entropy(r),ndd.entropy(r,algorithm='plugin')] for r in rolls]\n",
    "    y = np.array(x)\n",
    "    #z = np.array([ndd.entropy(dice_rolls(k,n),algorithm='plugin') for i in range(1000)])\n",
    "    hist,bins,patches = pylab.hist(y[:,0],bins=10,normed=1,facecolor='green',alpha=0.75)\n",
    "    hist,bins,patches = pylab.hist(y[:,1],bins=10,normed=1,facecolor='red',alpha=0.75)\n",
    "    #hist,bins,patches = pylab.hist(z,bins=20,normed=1,facecolor='blue',alpha=0.75)\n",
    "k=1000;n=2000\n",
    "\n",
    "pylab.figure(figsize=(12,6))\n",
    "\n",
    "plotter(k,n)\n",
    "#plotter(scipy.stats.entropy,'red',fair_data)"
   ]
  }
 ],
 "metadata": {
  "kernelspec": {
   "display_name": "Python 2",
   "language": "python",
   "name": "python2"
  },
  "language_info": {
   "codemirror_mode": {
    "name": "ipython",
    "version": 2
   },
   "file_extension": ".py",
   "mimetype": "text/x-python",
   "name": "python",
   "nbconvert_exporter": "python",
   "pygments_lexer": "ipython2",
   "version": "2.7.12"
  }
 },
 "nbformat": 4,
 "nbformat_minor": 0
}
